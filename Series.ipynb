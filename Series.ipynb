{
 "cells": [
  {
   "cell_type": "markdown",
   "id": "5b63d3f8",
   "metadata": {},
   "source": [
    "# Series\n",
    "\n",
    "Series is a one dimentional array holding data fo any type.\n",
    "Here is an example"
   ]
  },
  {
   "cell_type": "code",
   "execution_count": 5,
   "id": "22f2faf4",
   "metadata": {},
   "outputs": [
    {
     "name": "stdout",
     "output_type": "stream",
     "text": [
      "Names\n",
      "ranit      25\n",
      "neha       29\n",
      "shouvik    25\n",
      "satadru    12\n",
      "alex       22\n",
      "Name: people's age, dtype: int32\n"
     ]
    }
   ],
   "source": [
    "import numpy as np\n",
    "import pandas as pd\n",
    "\n",
    "data = np.random.randint(low=12,high=36,size=5)\n",
    "\n",
    "series = pd.Series(\n",
    "    data,\n",
    "    index=['ranit','neha','shouvik','satadru','alex'],\n",
    "    dtype='int32',\n",
    "    name='people\\'s age',\n",
    ")\n",
    "\n",
    "series.index.name=\"Names\"\n",
    "\n",
    "print(series)\n"
   ]
  },
  {
   "cell_type": "markdown",
   "id": "1b79d422",
   "metadata": {},
   "source": [
    "The data can be the type of **list**, **dictionary**, **tuple**, **scaler value**, **numpy array**"
   ]
  },
  {
   "cell_type": "code",
   "execution_count": null,
   "id": "c825528e",
   "metadata": {},
   "outputs": [
    {
     "name": "stdout",
     "output_type": "stream",
     "text": [
      "0     9\n",
      "1    66\n",
      "2    -3\n",
      "dtype: int64\n",
      "----------\n",
      "names     [a, b, c, d]\n",
      "age          [1, 2, 3]\n",
      "number             566\n",
      "dtype: object\n",
      "----------\n",
      "0      23\n",
      "1      Rj\n",
      "2    66.8\n",
      "3     -90\n",
      "dtype: object\n",
      "----------\n",
      "0    12\n",
      "dtype: int64\n",
      "----------\n",
      "1    12\n",
      "2    12\n",
      "3    12\n",
      "4    12\n",
      "5    12\n",
      "dtype: int64\n"
     ]
    }
   ],
   "source": [
    "import pandas as pd\n",
    "\n",
    "#list\n",
    "l = [9,66,-3]\n",
    "series1 = pd.Series(l)\n",
    "print(series1)\n",
    "print(\"----------\")\n",
    "\n",
    "#dictionary\n",
    "dict = {\n",
    "    \"names\":[\"a\",\"b\",\"c\",\"d\"],\n",
    "    \"age\":[1,2,3],\n",
    "    \"number\": 566\n",
    "}\n",
    "series2 = pd.Series(dict)\n",
    "print(series2)\n",
    "print(\"----------\")\n",
    "\n",
    "#tuple\n",
    "t=(23, \"Rj\" ,66.8, -90)\n",
    "series3 = pd.Series(t)\n",
    "print(series3)\n",
    "print(\"----------\")\n",
    "\n",
    "#scaler value\n",
    "value = 12\n",
    "series4 = pd.Series(value)\n",
    "print(series4)\n",
    "print(\"----------\")\n",
    "\n",
    "series5 = pd.Series(value,index=[1,2,3,4,5])\n",
    "print(series5)\n"
   ]
  },
  {
   "cell_type": "markdown",
   "id": "e535fa81",
   "metadata": {},
   "source": [
    "### Attributes"
   ]
  },
  {
   "cell_type": "code",
   "execution_count": 22,
   "id": "5c426f37",
   "metadata": {},
   "outputs": [
    {
     "name": "stdout",
     "output_type": "stream",
     "text": [
      "Shape : (5,)\n",
      "Size : 5\n",
      "Dimension : 1\n",
      "Data type : int32\n",
      "Indexes : Index(['ranit', 'neha', 'shouvik', 'satadru', 'alex'], dtype='object', name='Names')\n",
      "Values : [15 32 20 29 25]\n",
      "Name : people's age\n",
      "Index name : Names\n"
     ]
    }
   ],
   "source": [
    "import numpy as np\n",
    "import pandas as pd\n",
    "\n",
    "data = np.random.randint(low=12,high=36,size=5)\n",
    "\n",
    "series = pd.Series(\n",
    "    data,\n",
    "    index=['ranit','neha','shouvik','satadru','alex'],\n",
    "    dtype='int32',\n",
    "    name='people\\'s age',\n",
    ")\n",
    "\n",
    "series.index.name=\"Names\"\n",
    "\n",
    "print(f\"Shape : {series.shape}\")\n",
    "print(f\"Size : {series.size}\")\n",
    "print(f\"Dimension : {series.ndim}\")\n",
    "print(f\"Data type : {series.dtype}\")\n",
    "print(f\"Indexes : {series.index}\")\n",
    "print(f\"Values : {series.values}\")\n",
    "print(f\"Name : {series.name}\")\n",
    "print(f\"Index name : {series.index.name}\")\n"
   ]
  },
  {
   "cell_type": "markdown",
   "id": "9d580b84",
   "metadata": {},
   "source": [
    "### Element access"
   ]
  },
  {
   "cell_type": "code",
   "execution_count": null,
   "id": "8d5de301",
   "metadata": {},
   "outputs": [
    {
     "name": "stdout",
     "output_type": "stream",
     "text": [
      "first     37\n",
      "second    12\n",
      "third     96\n",
      "fourth   -45\n",
      "dtype: int32\n",
      "\n",
      "By integer : 12\n",
      "\n",
      "By label : 96\n",
      "\n",
      "Multiple elements :\n",
      "first     37\n",
      "second    12\n",
      "dtype: int32\n",
      "\n",
      "Sliced series :\n",
      "second    12\n",
      "third     96\n",
      "dtype: int32\n"
     ]
    }
   ],
   "source": [
    "import pandas as pd\n",
    "\n",
    "series = pd.Series(\n",
    "    [37, 12, 96, -45],\n",
    "    index=[\"first\", \"second\", \"third\", \"fourth\"],\n",
    "    dtype=\"int32\"\n",
    ")\n",
    "\n",
    "print(series)\n",
    "\n",
    "print(f\"\\nBy integer : {series.iloc[1]}\\n\")\n",
    "print(f\"By label : {series.loc[\"third\"]}\\n\")  # .loc() or [] directly becasuse we manually set those lebels\n",
    "print(f\"Multiple elements :\\n{series.iloc[[0,1]]}\\n\")\n",
    "print(f\"Sliced series :\\n{series[1:3]}\")"
   ]
  },
  {
   "cell_type": "markdown",
   "id": "09a78456",
   "metadata": {},
   "source": [
    "### Modify"
   ]
  },
  {
   "cell_type": "code",
   "execution_count": null,
   "id": "59056796",
   "metadata": {},
   "outputs": [
    {
     "name": "stdout",
     "output_type": "stream",
     "text": [
      "0    1\n",
      "1    2\n",
      "2    3\n",
      "3    4\n",
      "dtype: int64\n",
      "0   -90\n",
      "1     5\n",
      "2     5\n",
      "3     4\n",
      "dtype: int64\n"
     ]
    }
   ],
   "source": [
    "import pandas as pd\n",
    "\n",
    "series = pd.Series([1,2,3,4])\n",
    "\n",
    "print(series)\n",
    "\n",
    "series[1:3] = 5\n",
    "series.loc[0] = -90\n",
    "\n",
    "print(series)"
   ]
  },
  {
   "cell_type": "markdown",
   "id": "d497cbd0",
   "metadata": {},
   "source": [
    "### Operations\n",
    "\n",
    "We can use all numpy methods here ,like **np.sum()**,**np.mean()** etc."
   ]
  },
  {
   "cell_type": "code",
   "execution_count": 51,
   "id": "e75146ea",
   "metadata": {},
   "outputs": [
    {
     "name": "stdout",
     "output_type": "stream",
     "text": [
      "0    25\n",
      "1    60\n",
      "2    48\n",
      "dtype: int64\n",
      "\n",
      "Mean : 44.333333333333336\n",
      "Median : 48.0\n",
      "Std : 17.7857620959388\n",
      "Max : 60\n",
      "Min : 25\n",
      "Sum : 133\n",
      "\n",
      "Description :\n",
      "count     3.000000\n",
      "mean     44.333333\n",
      "std      17.785762\n",
      "min      25.000000\n",
      "25%      36.500000\n",
      "50%      48.000000\n",
      "75%      54.000000\n",
      "max      60.000000\n",
      "dtype: float64\n",
      "\n",
      "Counts : \n",
      "25    1\n",
      "60    1\n",
      "48    1\n",
      "Name: count, dtype: int64\n"
     ]
    }
   ],
   "source": [
    "import numpy as np\n",
    "import pandas as pd\n",
    "\n",
    "data = np.random.randint(low=20,high=68,size=3)\n",
    "\n",
    "series = pd.Series(data)\n",
    "\n",
    "print(series)\n",
    "\n",
    "print(f\"\\nMean : {series.mean()}\") # or np.mean(series)\n",
    "print(f\"Median : {series.median()}\")\n",
    "print(f\"Std : {series.std()}\") # standard deviation\n",
    "print(f\"Max : {series.max()}\")\n",
    "print(f\"Min : {series.min()}\")\n",
    "print(f\"Sum : {series.sum()}\")\n",
    "print(f\"\\nDescription :\\n{series.describe()}\\n\")\n",
    "print(f\"Counts : \\n{series.value_counts()}\")"
   ]
  },
  {
   "cell_type": "markdown",
   "id": "faa3af64",
   "metadata": {},
   "source": [
    "### Boolean indexing"
   ]
  },
  {
   "cell_type": "code",
   "execution_count": 53,
   "id": "cc86ee9a",
   "metadata": {},
   "outputs": [
    {
     "name": "stdout",
     "output_type": "stream",
     "text": [
      "3    23\n",
      "4    22\n",
      "dtype: int64\n"
     ]
    }
   ],
   "source": [
    "import pandas as pd\n",
    "\n",
    "series = pd.Series([10,6,-4,23,22])\n",
    "\n",
    "print(series[series > 10])"
   ]
  },
  {
   "cell_type": "markdown",
   "id": "e831507d",
   "metadata": {},
   "source": [
    "### Handling missing values"
   ]
  },
  {
   "cell_type": "code",
   "execution_count": 67,
   "id": "febecf8e",
   "metadata": {},
   "outputs": [
    {
     "name": "stdout",
     "output_type": "stream",
     "text": [
      "0    Ranit\n",
      "1       21\n",
      "2     None\n",
      "dtype: object\n",
      "\n",
      "Is series null :\n",
      "0    False\n",
      "1    False\n",
      "2     True\n",
      "dtype: bool\n",
      "\n",
      "Is series not null :\n",
      "0     True\n",
      "1     True\n",
      "2    False\n",
      "dtype: bool\n",
      "\n",
      "Fill NaN :\n",
      "0    Ranit\n",
      "1       21\n",
      "2        0\n",
      "dtype: object\n",
      "\n",
      "Drop NaN :\n",
      "0    Ranit\n",
      "1       21\n",
      "dtype: object\n"
     ]
    }
   ],
   "source": [
    "import pandas as pd\n",
    "\n",
    "series = pd.Series([\"Ranit\", 21, None])\n",
    "print(series)\n",
    "\n",
    "print(f\"\\nIs series null :\\n{series.isnull()}\")\n",
    "print(f\"\\nIs series not null :\\n{series.notnull()}\")\n",
    "print(f\"\\nFill NaN :\\n{series.fillna(0,inplace=False)}\")\n",
    "print(f\"\\nDrop NaN :\\n{series.dropna()}\")"
   ]
  },
  {
   "cell_type": "markdown",
   "id": "e3a5951f",
   "metadata": {},
   "source": [
    "### Sorting"
   ]
  },
  {
   "cell_type": "code",
   "execution_count": 73,
   "id": "afd5f4e8",
   "metadata": {},
   "outputs": [
    {
     "name": "stdout",
     "output_type": "stream",
     "text": [
      "4    12\n",
      "0    35\n",
      "1    91\n",
      "3    75\n",
      "2    25\n",
      "dtype: int64\n",
      "\n",
      "Sort by index :\n",
      "0    35\n",
      "1    91\n",
      "2    25\n",
      "3    75\n",
      "4    12\n",
      "dtype: int64\n",
      "\n",
      "Sort by values :\n",
      "4    12\n",
      "2    25\n",
      "0    35\n",
      "3    75\n",
      "1    91\n",
      "dtype: int64\n"
     ]
    }
   ],
   "source": [
    "from numpy import random as rd\n",
    "import pandas as pd\n",
    "\n",
    "series = pd.Series(rd.randint(low=10,high=96,size=5),index=[4,0,1,3,2])\n",
    "\n",
    "print(series,end=\"\\n\\n\")\n",
    "\n",
    "print(f\"Sort by index :\\n{series.sort_index()}\\n\")\n",
    "print(f\"Sort by values :\\n{series.sort_values()}\")"
   ]
  },
  {
   "cell_type": "markdown",
   "id": "346b4945",
   "metadata": {},
   "source": [
    "### Insert and Delete"
   ]
  },
  {
   "cell_type": "code",
   "execution_count": 15,
   "id": "daa4314f",
   "metadata": {},
   "outputs": [
    {
     "name": "stdout",
     "output_type": "stream",
     "text": [
      "0    11\n",
      "1    23\n",
      "2    64\n",
      "3    17\n",
      "4   -99\n",
      "dtype: int64\n",
      "\n",
      "Inserted value at index 3 :\n",
      "0      11\n",
      "1      23\n",
      "2      64\n",
      "0    1000\n",
      "3      17\n",
      "4     -99\n",
      "dtype: int64\n",
      "\n",
      "Dropped index 1 :\n",
      "0      11\n",
      "2      64\n",
      "0    1000\n",
      "3      17\n",
      "4     -99\n",
      "dtype: int64\n"
     ]
    }
   ],
   "source": [
    "import numpy as  np\n",
    "import pandas as pd\n",
    "\n",
    "series = pd.Series([11,23,64,17,-99])\n",
    "print(series)\n",
    "\n",
    "index=3\n",
    "\n",
    "series = pd.concat([\n",
    "    series.iloc[:index],\n",
    "    pd.Series([1000]),\n",
    "    series.iloc[index:]\n",
    "])\n",
    "\n",
    "print(f\"\\nInserted value at index {index} :\\n{series}\")\n",
    "print(f\"\\nDropped index 1 :\\n{series.drop(1,inplace=False)}\")"
   ]
  },
  {
   "cell_type": "markdown",
   "id": "ef90e495",
   "metadata": {},
   "source": [
    "### Useful methods"
   ]
  },
  {
   "cell_type": "code",
   "execution_count": 22,
   "id": "f3f1f1e9",
   "metadata": {},
   "outputs": [
    {
     "name": "stdout",
     "output_type": "stream",
     "text": [
      "0    35\n",
      "1    23\n",
      "2    22\n",
      "3     4\n",
      "4     9\n",
      "dtype: int64\n",
      "\n",
      "Top 3 elemnts :\n",
      "0    35\n",
      "1    23\n",
      "2    22\n",
      "dtype: int64\n",
      "\n",
      "Last 3 elemnts :\n",
      "2    22\n",
      "3     4\n",
      "4     9\n",
      "dtype: int64\n",
      "\n",
      "Clipped values :\n",
      "0    10\n",
      "1    10\n",
      "2    10\n",
      "3     4\n",
      "4     9\n",
      "dtype: int64\n"
     ]
    }
   ],
   "source": [
    "import numpy as np\n",
    "import pandas as pd\n",
    "\n",
    "series = pd.Series(np.random.randint(low=0,high=42,size=5))\n",
    "print(series)\n",
    "print(f\"\\nTop 3 elemnts :\\n{series.head(3)}\")\n",
    "print(f\"\\nLast 3 elemnts :\\n{series.tail(3)}\")\n",
    "print(f\"\\nClipped values :\\n{series.clip(0,10)}\")"
   ]
  }
 ],
 "metadata": {
  "kernelspec": {
   "display_name": "venv",
   "language": "python",
   "name": "python3"
  },
  "language_info": {
   "codemirror_mode": {
    "name": "ipython",
    "version": 3
   },
   "file_extension": ".py",
   "mimetype": "text/x-python",
   "name": "python",
   "nbconvert_exporter": "python",
   "pygments_lexer": "ipython3",
   "version": "3.12.3"
  }
 },
 "nbformat": 4,
 "nbformat_minor": 5
}
