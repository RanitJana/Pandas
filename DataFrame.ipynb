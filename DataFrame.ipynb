{
 "cells": [
  {
   "cell_type": "markdown",
   "id": "058b591f",
   "metadata": {},
   "source": [
    "# DataFrame"
   ]
  },
  {
   "cell_type": "markdown",
   "id": "c27e2e97",
   "metadata": {},
   "source": [
    "All methods are same as pandas series."
   ]
  },
  {
   "cell_type": "markdown",
   "id": "5684fd48",
   "metadata": {},
   "source": [
    "### Insert row and column"
   ]
  },
  {
   "cell_type": "code",
   "execution_count": 17,
   "id": "40c1f318",
   "metadata": {},
   "outputs": [
    {
     "name": "stdout",
     "output_type": "stream",
     "text": [
      "   first  second  third  fourth  fifth\n",
      "0     25      31     31      35     15\n",
      "1     22      35     21      29     14\n",
      "2     32      35     31      15     21\n",
      "\n",
      "Inserted a new row at index 1 :\n",
      "   first  second  third  fourth  fifth\n",
      "0     25      31     31      35     15\n",
      "1     33      13     28      13     32\n",
      "2     22      35     21      29     14\n",
      "3     32      35     31      15     21\n",
      "\n",
      "Inserted a new col at index 3 :\n",
      "   first  second  third  new_col  fourth  fifth\n",
      "0     25      31     31       19      35     15\n",
      "1     33      13     28       28      13     32\n",
      "2     22      35     21       32      29     14\n",
      "3     32      35     31       15      15     21\n"
     ]
    }
   ],
   "source": [
    "import numpy as np\n",
    "import pandas as pd\n",
    "\n",
    "data = np.random.randint(low=10,high=36,size=15).reshape((3,5))\n",
    "\n",
    "df = pd.DataFrame(\n",
    "    data,\n",
    "    # index=[\"a\",\"b\",\"c\"],\n",
    "    columns=[\"first\",\"second\",\"third\",\"fourth\",\"fifth\"]\n",
    ")\n",
    "print(df)\n",
    "\n",
    "#row insert\n",
    "row = [np.random.randint(low=10,high=36,size=5)]\n",
    "rowIndex=1\n",
    "df = pd.concat([\n",
    "    df.iloc[:rowIndex],\n",
    "    pd.DataFrame(row,columns=df.columns),\n",
    "    df.iloc[rowIndex:]\n",
    "],ignore_index=True)\n",
    "print(f\"\\nInserted a new row at index {rowIndex} :\\n{df}\")\n",
    "\n",
    "#column insert\n",
    "col = np.random.randint(low=10,high=36,size=4)\n",
    "colIndex=3\n",
    "df.insert(colIndex,\"new_col\",col)\n",
    "print(f\"\\nInserted a new col at index {colIndex} :\\n{df}\")\n"
   ]
  },
  {
   "cell_type": "markdown",
   "id": "df20c898",
   "metadata": {},
   "source": [
    "### Grouping"
   ]
  },
  {
   "cell_type": "code",
   "execution_count": 30,
   "id": "8d32d83b",
   "metadata": {},
   "outputs": [
    {
     "name": "stdout",
     "output_type": "stream",
     "text": [
      "    names  age  salary\n",
      "0   first   20   20000\n",
      "1  second   21   32450\n",
      "2   third   21   64000\n",
      "3  fourth   21   25000\n",
      "4   fifth   32   30000\n",
      "\n",
      "Grouped by age :\n",
      "                 names  salary\n",
      "age                           \n",
      "20               first   20000\n",
      "21   secondthirdfourth  121450\n",
      "32               fifth   30000\n"
     ]
    }
   ],
   "source": [
    "import pandas as pd\n",
    "\n",
    "df = pd.DataFrame({\n",
    "    \"names\":[\"first\",\"second\",\"third\",\"fourth\",\"fifth\"],\n",
    "    \"age\":[20,21,21,21,32],\n",
    "    \"salary\":[20000,32450,64000,25000,30000]  \n",
    "})\n",
    "print(df)\n",
    "\n",
    "groupAges = df.groupby([\"age\"]).sum()\n",
    "print(f\"\\nGrouped by age :\\n{groupAges}\")\n"
   ]
  },
  {
   "cell_type": "markdown",
   "id": "ce1b87d7",
   "metadata": {},
   "source": [
    "### Merging and renaming"
   ]
  },
  {
   "cell_type": "code",
   "execution_count": 17,
   "id": "ef798ec5",
   "metadata": {},
   "outputs": [
    {
     "name": "stdout",
     "output_type": "stream",
     "text": [
      "Customer details :\n",
      "   id     name\n",
      "0   1    Ranit\n",
      "1   2     Neha\n",
      "2   3  Shouvik\n",
      "3   4  Satadru\n",
      "4   5  Ranadip\n",
      "\n",
      "Order details :\n",
      "   customerId  price\n",
      "0           2    150\n",
      "1           3   3300\n",
      "2           1    730\n",
      "\n",
      "Inner merged:\n",
      "   id customer name  purchase cost\n",
      "0   1         Ranit            730\n",
      "1   2          Neha            150\n",
      "2   3       Shouvik           3300\n"
     ]
    }
   ],
   "source": [
    "import pandas as pd\n",
    "\n",
    "customers = pd.DataFrame({\n",
    "    \"id\":[1,2,3,4,5],\n",
    "    \"name\":[\"Ranit\",\"Neha\",\"Shouvik\",\"Satadru\",\"Ranadip\"]\n",
    "})\n",
    "\n",
    "orders = pd.DataFrame({\n",
    "    \"customerId\":[2,3,1],\n",
    "    \"price\":[150,3300,730]\n",
    "})\n",
    "\n",
    "print(f\"Customer details :\\n{customers}\")\n",
    "print(f\"\\nOrder details :\\n{orders}\")\n",
    "\n",
    "mergedInner = pd.merge(customers,orders,left_on=\"id\",right_on=\"customerId\",how=\"inner\")\\\n",
    "            .drop(columns=[\"customerId\"])\\\n",
    "            .rename(columns={\n",
    "                \"name\":\"customer name\",\n",
    "                \"price\":\"purchase cost\"\n",
    "            })\n",
    "print(f\"\\nInner merged:\\n{mergedInner}\")"
   ]
  },
  {
   "cell_type": "markdown",
   "id": "6391788c",
   "metadata": {},
   "source": [
    "### More on handling missing data"
   ]
  },
  {
   "cell_type": "code",
   "execution_count": 34,
   "id": "384ce655",
   "metadata": {},
   "outputs": [
    {
     "name": "stdout",
     "output_type": "stream",
     "text": [
      "    names   age   salary\n",
      "0   first   NaN  20000.0\n",
      "1  second  36.0      NaN\n",
      "2   third   NaN  64000.0\n",
      "3  fourth  20.0  25000.0\n",
      "4   fifth  32.0  30000.0\n",
      "\n",
      "After interpolation :\n",
      "     names   age   salary\n",
      "0   first  36.0  20000.0\n",
      "1  second  36.0  42000.0\n",
      "2   third  28.0  64000.0\n",
      "3  fourth  20.0  25000.0\n",
      "4   fifth  32.0  30000.0\n"
     ]
    }
   ],
   "source": [
    "import pandas as pd\n",
    "\n",
    "df = pd.DataFrame({\n",
    "    \"names\":[\"first\",\"second\",\"third\",\"fourth\",\"fifth\"],\n",
    "    \"age\":[None,36,None,20,32],\n",
    "    \"salary\":[20000,None,64000,25000,30000]  \n",
    "})\n",
    "\n",
    "print(df)\n",
    "\n",
    "# interpolation\n",
    "df[[\"age\", \"salary\"]] = df[[\"age\", \"salary\"]].interpolate(\n",
    "    method=\"linear\", axis=0, limit_direction=\"both\"\n",
    ")\n",
    "\n",
    "print(\"\\nAfter interpolation :\\n\",df)"
   ]
  }
 ],
 "metadata": {
  "kernelspec": {
   "display_name": "venv",
   "language": "python",
   "name": "python3"
  },
  "language_info": {
   "codemirror_mode": {
    "name": "ipython",
    "version": 3
   },
   "file_extension": ".py",
   "mimetype": "text/x-python",
   "name": "python",
   "nbconvert_exporter": "python",
   "pygments_lexer": "ipython3",
   "version": "3.12.3"
  }
 },
 "nbformat": 4,
 "nbformat_minor": 5
}
